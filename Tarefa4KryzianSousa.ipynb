{
  "nbformat": 4,
  "nbformat_minor": 0,
  "metadata": {
    "colab": {
      "provenance": [],
      "collapsed_sections": []
    },
    "kernelspec": {
      "name": "python3",
      "display_name": "Python 3"
    },
    "language_info": {
      "name": "python"
    }
  },
  "cells": [
    {
      "cell_type": "markdown",
      "source": [
        "#Nome: Kryzian Sousa dos Santos RA: 11202021159"
      ],
      "metadata": {
        "id": "6PoerB8erahf"
      }
    },
    {
      "cell_type": "markdown",
      "source": [
        "1) O volume de uma esfera com raio contida em uma variável **R**"
      ],
      "metadata": {
        "id": "XOUnTlycs049"
      }
    },
    {
      "cell_type": "markdown",
      "source": [
        "A) Teste para R = 0,32 m"
      ],
      "metadata": {
        "id": "U5O1tP3D6jen"
      }
    },
    {
      "cell_type": "code",
      "source": [
        "r=0.32 #Raio da esfera para cálculo do volume"
      ],
      "metadata": {
        "id": "FjQB8wcc2mZX"
      },
      "execution_count": 2,
      "outputs": []
    },
    {
      "cell_type": "code",
      "source": [
        "v=(4/3)*3.14*r**3 #Substituindo o valor de \"r\" na fórmula\n",
        "print(\"O volume de uma esfera, dado o raio 0,32 m é\", v ,)"
      ],
      "metadata": {
        "colab": {
          "base_uri": "https://localhost:8080/"
        },
        "id": "93VDLpMP2esF",
        "outputId": "cf6f9ff7-c943-457c-df0f-f5bd95a9f2ec"
      },
      "execution_count": 6,
      "outputs": [
        {
          "output_type": "stream",
          "name": "stdout",
          "text": [
            "O volume de uma esfera, dado o raio 0,32 m é 0.13718869333333336\n"
          ]
        }
      ]
    },
    {
      "cell_type": "markdown",
      "source": [
        "B) Teste para R = 1 M"
      ],
      "metadata": {
        "id": "cPPEVvAe6hMj"
      }
    },
    {
      "cell_type": "code",
      "source": [
        "r=1 #Raio da esfera para cálculo do volume"
      ],
      "metadata": {
        "id": "Dm9vrRRV61Ot"
      },
      "execution_count": 7,
      "outputs": []
    },
    {
      "cell_type": "code",
      "source": [
        "v=(4/3)*3.14*r**3 #substituindo o valor de \"r\" na fórmula\n",
        "print(\"O volume de uma esfera, dado o raio 1m é\", v,)"
      ],
      "metadata": {
        "colab": {
          "base_uri": "https://localhost:8080/"
        },
        "id": "kvhjLIbb64YX",
        "outputId": "bbbbde76-0be7-4904-8485-e1b5f7d9dbc2"
      },
      "execution_count": 8,
      "outputs": [
        {
          "output_type": "stream",
          "name": "stdout",
          "text": [
            "O volume de uma esfera, dado o raio 1m é 4.1866666666666665\n"
          ]
        }
      ]
    },
    {
      "cell_type": "markdown",
      "source": [
        "C) Teste para R = 1,9 M"
      ],
      "metadata": {
        "id": "TH3opPfw7BaU"
      }
    },
    {
      "cell_type": "code",
      "source": [
        "r=1.9 #Raio da esfera para cálculo do volume"
      ],
      "metadata": {
        "id": "Vtix2svj7H99"
      },
      "execution_count": 10,
      "outputs": []
    },
    {
      "cell_type": "code",
      "source": [
        "v=(4/3)*3.14*r**3 #Substituindo o valor de \"r\" na fórmula\n",
        "print(\"O volume de uma esfera, dado o raio 1,9m é\", v,)"
      ],
      "metadata": {
        "colab": {
          "base_uri": "https://localhost:8080/"
        },
        "id": "les6MY3G7Liw",
        "outputId": "613ce10f-b470-4d08-bb3a-21473b3d324c"
      },
      "execution_count": 12,
      "outputs": [
        {
          "output_type": "stream",
          "name": "stdout",
          "text": [
            "O volume de uma esfera, dado o raio 1,9m é 28.716346666666663\n"
          ]
        }
      ]
    },
    {
      "cell_type": "markdown",
      "source": [
        "2) Temperatura em Fahrenheit dada a temperatura em Celsius contida em uma variavel Tc.\n",
        "\n"
      ],
      "metadata": {
        "id": "5T2nXLw1tb5B"
      }
    },
    {
      "cell_type": "markdown",
      "source": [
        "a) Tc = -10ºC"
      ],
      "metadata": {
        "id": "kSjem3oItgY6"
      }
    },
    {
      "cell_type": "code",
      "source": [
        "tc=-10 #Temperatura em Celsius para ser convertida em Fahrenheit"
      ],
      "metadata": {
        "id": "687xlgtAyacW"
      },
      "execution_count": 13,
      "outputs": []
    },
    {
      "cell_type": "code",
      "source": [
        "tf=((tc/5)*9)+32 #Isolar o tf porque python não entende a expressão\n",
        "print(\"A temperatura em Fahrenheit, dado -10ºC é\", tf,)"
      ],
      "metadata": {
        "colab": {
          "base_uri": "https://localhost:8080/"
        },
        "id": "SS6lFlK3ys7z",
        "outputId": "52130c42-6d88-4f05-eec4-fe5ce2d292d5"
      },
      "execution_count": 15,
      "outputs": [
        {
          "output_type": "stream",
          "name": "stdout",
          "text": [
            "A temperatura em Fahrenheit, dado -10ºC é 14.0\n"
          ]
        }
      ]
    },
    {
      "cell_type": "markdown",
      "source": [
        "b) Tc = 30ºC"
      ],
      "metadata": {
        "id": "UMtv8yaLtsPq"
      }
    },
    {
      "cell_type": "code",
      "source": [
        "tc=30 #Temperatura em Celsius para ser convertida em Fahrenheit"
      ],
      "metadata": {
        "id": "DLXMSBt5-UzR"
      },
      "execution_count": 16,
      "outputs": []
    },
    {
      "cell_type": "code",
      "source": [
        "tf=((tc/5)*9)+32 #Isolar o tf porque python não entende a expressão\n",
        "print(\"A temperatura em fahrenheit, dado 30ºC é\", tf,)"
      ],
      "metadata": {
        "colab": {
          "base_uri": "https://localhost:8080/"
        },
        "id": "M0Hnekzf-bvw",
        "outputId": "801bacba-ad0a-4b59-8118-813ab23df880"
      },
      "execution_count": 17,
      "outputs": [
        {
          "output_type": "stream",
          "name": "stdout",
          "text": [
            "A temperatura em fahrenheit, dado 30ºC é 86.0\n"
          ]
        }
      ]
    },
    {
      "cell_type": "markdown",
      "source": [
        "c) Tc = 5ºC"
      ],
      "metadata": {
        "id": "zTNbJvhUtxjr"
      }
    },
    {
      "cell_type": "code",
      "source": [
        "tc=5 #Temperatura em Celsius para ser convertida em Fahrenheit"
      ],
      "metadata": {
        "id": "CVa4--e--sh_"
      },
      "execution_count": 18,
      "outputs": []
    },
    {
      "cell_type": "code",
      "source": [
        "tf=((tc/5)*9)+32 #Isolar o tf porque python não entende a expressão\n",
        "print(\"A temperatura em fahrenheit, dado 5ºC é\", tf,)"
      ],
      "metadata": {
        "colab": {
          "base_uri": "https://localhost:8080/"
        },
        "id": "TdnmN4HE-umr",
        "outputId": "bb5542b5-9b1b-4713-d4e1-b5406473add7"
      },
      "execution_count": 19,
      "outputs": [
        {
          "output_type": "stream",
          "name": "stdout",
          "text": [
            "A temperatura em fahrenheit, dado 5ºC é 41.0\n"
          ]
        }
      ]
    },
    {
      "cell_type": "markdown",
      "source": [
        "**3)** O tamanho do lado $c$ de um triângulo com lados $a, b$ e  ângulo $\\theta$ entre os lados $a$ e $b$ conhecidos. $a$, $b$ e $\\theta$ devem estar gravadas em variáveis. A expressão para isso é conhecida como lei dos cossenos:"
      ],
      "metadata": {
        "id": "p4gF7ohVuKgV"
      }
    },
    {
      "cell_type": "markdown",
      "source": [
        "A) A = 1, B = 2  e o = 30º"
      ],
      "metadata": {
        "id": "Ika5gnBaGobG"
      }
    },
    {
      "cell_type": "code",
      "source": [
        "a=1\n",
        "b=2 #Dada as variáveis\n",
        "o=30"
      ],
      "metadata": {
        "id": "g6fzyCsWB4Ae"
      },
      "execution_count": 21,
      "outputs": []
    },
    {
      "cell_type": "code",
      "source": [
        "import math #Como calcularemos o cosseno, é necessário importar a biblioteca python\n",
        "c=(a**2+b**2-2*a*b*math.cos(30))**0.5 #Substituindo as variáveis na fórmula\n",
        "print(\"O lado c deste triângulo de acordo com as variáveis dadas é igual a\", c,)"
      ],
      "metadata": {
        "colab": {
          "base_uri": "https://localhost:8080/"
        },
        "id": "db8OIXzzB4Ol",
        "outputId": "813ef854-0c25-4b31-a903-ce3eacf6a0d0"
      },
      "execution_count": 27,
      "outputs": [
        {
          "output_type": "stream",
          "name": "stdout",
          "text": [
            "O lado c deste triângulo de acordo com as variáveis dadas é igual a 2.0935601735917846\n"
          ]
        }
      ]
    },
    {
      "cell_type": "markdown",
      "source": [
        "B) A = 3, B = 1 e o = 45º"
      ],
      "metadata": {
        "id": "COl6b_o-HdBI"
      }
    },
    {
      "cell_type": "code",
      "source": [
        "a=3\n",
        "b=1 #Dada as variáveis\n",
        "o=45"
      ],
      "metadata": {
        "id": "ZDHyZBqcHkfU"
      },
      "execution_count": 44,
      "outputs": []
    },
    {
      "cell_type": "code",
      "source": [
        "import math #Como calcularemos o cosseno, é necessário importar a biblioteca python\n",
        "c=(a**2+b**2-2*a*b*math.cos(45))**0.5 #Substituindo as variáveis na fórmula\n",
        "print(\"O lado c deste triângulo, de acordo com as variáveis dadas é igual a\", c,)"
      ],
      "metadata": {
        "colab": {
          "base_uri": "https://localhost:8080/"
        },
        "id": "ZKBdFgNVHpfe",
        "outputId": "b0764ad8-2400-4d5e-fb1e-829f96db0af1"
      },
      "execution_count": 45,
      "outputs": [
        {
          "output_type": "stream",
          "name": "stdout",
          "text": [
            "O lado c deste triângulo, de acordo com as variáveis dadas é igual a 2.616881362823623\n"
          ]
        }
      ]
    },
    {
      "cell_type": "markdown",
      "source": [
        "C) A = 10, B = 11 e o = 15º"
      ],
      "metadata": {
        "id": "miVf6KVlIHje"
      }
    },
    {
      "cell_type": "code",
      "source": [
        "a=10\n",
        "b=11 #Dadas as variáveis\n",
        "o=15"
      ],
      "metadata": {
        "id": "lsj6FzYWIS0D"
      },
      "execution_count": 40,
      "outputs": []
    },
    {
      "cell_type": "code",
      "source": [
        "import math #Como calcularemos o cosseno, é necessário importar a biblioteca python\n",
        "c=(a**2+b**2-2*a*b*math.cos(15))**0.5 #Substituindo as variáveis na fórmula\n",
        "print(\"O lado c deste triângulo, de acordo com as variáveis dadas é igual a\", c)"
      ],
      "metadata": {
        "colab": {
          "base_uri": "https://localhost:8080/"
        },
        "id": "EXzNYLlyIXW0",
        "outputId": "337b3087-87a1-4abc-df65-9e45f1ffe2e3"
      },
      "execution_count": 43,
      "outputs": [
        {
          "output_type": "stream",
          "name": "stdout",
          "text": [
            "O lado c deste triângulo, de acordo com as variáveis dadas é igual a 19.701049231676485\n"
          ]
        }
      ]
    },
    {
      "cell_type": "markdown",
      "source": [
        "**4)** A série de Fibonacci é uma sequência de números inteiros em que cada número da série é a soma dos dois números anteriores:\n",
        "\n",
        "$0,1,1,2,3,5,8,13,21,34,55,... $\n",
        "\n",
        "O i-ésimo número pode ser aproximado pela seguinte expressão:\n",
        "\n",
        "$$ F_i = \\Bigg\\lfloor\\frac{\\left(\\frac{1+\\sqrt{5}}{2} \\right)^i- \\left(\\frac{1-\\sqrt{5}}{2} \\right)^i}{\\sqrt{5}} \\Bigg\\rfloor $$\n",
        "\n",
        "Na expressão acima o símbolo $\\lfloor .\\rfloor$ representa a função piso."
      ],
      "metadata": {
        "id": "lKz59T2TwAUg"
      }
    },
    {
      "cell_type": "markdown",
      "source": [
        "a) $i$ = 30"
      ],
      "metadata": {
        "id": "6nKnxSjyhcXN"
      }
    },
    {
      "cell_type": "code",
      "source": [
        "i=30 #Testando para o i-ésimo sendo 30"
      ],
      "metadata": {
        "id": "xaqVz7b1hmW7"
      },
      "execution_count": 46,
      "outputs": []
    },
    {
      "cell_type": "code",
      "source": [
        "f=((((1+5**0.5)/2)**i)-(((1-5**0.5)/2)**i))/5**0.5 #Substituição de valores na fórmula\n",
        "f=int(f) #Int porque pede número inteiro e o resultado sai em decimal\n",
        "print(\"Testando para i=30, temos\", f,)"
      ],
      "metadata": {
        "colab": {
          "base_uri": "https://localhost:8080/"
        },
        "id": "4pGvEHLxh-Qy",
        "outputId": "aa4a77ac-96d9-498a-f851-d5757305b8a0"
      },
      "execution_count": 49,
      "outputs": [
        {
          "output_type": "stream",
          "name": "stdout",
          "text": [
            "Testando para i=30, temos 832040\n"
          ]
        }
      ]
    },
    {
      "cell_type": "markdown",
      "source": [
        "b) $i$= 31"
      ],
      "metadata": {
        "id": "9YfxpPoChff8"
      }
    },
    {
      "cell_type": "code",
      "source": [
        "i=31 #Testando para o i-ésimo sendo 31"
      ],
      "metadata": {
        "id": "Rd2hH5hNjGJh"
      },
      "execution_count": 50,
      "outputs": []
    },
    {
      "cell_type": "code",
      "source": [
        "f=((((1+5**0.5)/2)**i)-(((1-5**0.5)/2)**i))/5**0.5 #Substituição de valores na fórmula\n",
        "f=int(f) #Ind porque pede número inteiro e o resultado sai em decimal\n",
        "print(\"Testando para i=31, temos\", f,)\n"
      ],
      "metadata": {
        "colab": {
          "base_uri": "https://localhost:8080/"
        },
        "id": "p2e5-hudl_pG",
        "outputId": "1495e1e3-5742-4543-cd3b-4fe92e0677b8"
      },
      "execution_count": 51,
      "outputs": [
        {
          "output_type": "stream",
          "name": "stdout",
          "text": [
            "Testando para i=31, temos 1346269\n"
          ]
        }
      ]
    },
    {
      "cell_type": "markdown",
      "source": [
        "c) $i$ = 32."
      ],
      "metadata": {
        "id": "-ptZn2hNhiw-"
      }
    },
    {
      "cell_type": "code",
      "source": [
        "i=32 #Testando para o i-ésimo sendo 32"
      ],
      "metadata": {
        "id": "Ouup0-mWmQKP"
      },
      "execution_count": 52,
      "outputs": []
    },
    {
      "cell_type": "code",
      "source": [
        "f=((((1+5**0.5)/2)**i)-(((1-5**0.5)/2)**i))/5**0.5 #Substituição de valores na fórmula\n",
        "f=int(f) #Int porque pede número inteiro e o resultado sai em decimal\n",
        "print(\"Testanto para i=32, temos\", f,)"
      ],
      "metadata": {
        "colab": {
          "base_uri": "https://localhost:8080/"
        },
        "id": "_ghbtIsnmSbB",
        "outputId": "c1cc9a7a-6c4e-498e-c3d1-8e1effb4c03a"
      },
      "execution_count": 53,
      "outputs": [
        {
          "output_type": "stream",
          "name": "stdout",
          "text": [
            "Testanto para i=32, temos 2178309\n"
          ]
        }
      ]
    }
  ]
}