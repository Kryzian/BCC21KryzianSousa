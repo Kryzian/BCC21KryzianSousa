{
  "nbformat": 4,
  "nbformat_minor": 0,
  "metadata": {
    "colab": {
      "provenance": [],
      "collapsed_sections": []
    },
    "kernelspec": {
      "name": "python3",
      "display_name": "Python 3"
    },
    "language_info": {
      "name": "python"
    }
  },
  "cells": [
    {
      "cell_type": "markdown",
      "source": [
        "#Nome: Kryzian Sousa dos Santos RA: 11202021159"
      ],
      "metadata": {
        "id": "6PoerB8erahf"
      }
    },
    {
      "cell_type": "markdown",
      "source": [
        "1) O volume de uma esfera com raio contida em uma variável **R**"
      ],
      "metadata": {
        "id": "XOUnTlycs049"
      }
    },
    {
      "cell_type": "markdown",
      "source": [
        "A) Teste para R = 0,32 m"
      ],
      "metadata": {
        "id": "U5O1tP3D6jen"
      }
    },
    {
      "cell_type": "code",
      "source": [
        "r=0.32"
      ],
      "metadata": {
        "id": "FjQB8wcc2mZX"
      },
      "execution_count": null,
      "outputs": []
    },
    {
      "cell_type": "code",
      "source": [
        "v=(4/3)*3.14*r**3\n",
        "print(v)"
      ],
      "metadata": {
        "colab": {
          "base_uri": "https://localhost:8080/"
        },
        "id": "93VDLpMP2esF",
        "outputId": "fab81b27-e5fd-40ca-96d4-a53d8777bd00"
      },
      "execution_count": null,
      "outputs": [
        {
          "output_type": "stream",
          "name": "stdout",
          "text": [
            "0.13718869333333336\n"
          ]
        }
      ]
    },
    {
      "cell_type": "markdown",
      "source": [
        "B) Teste para R = 1 M"
      ],
      "metadata": {
        "id": "cPPEVvAe6hMj"
      }
    },
    {
      "cell_type": "code",
      "source": [
        "r=1"
      ],
      "metadata": {
        "id": "Dm9vrRRV61Ot"
      },
      "execution_count": null,
      "outputs": []
    },
    {
      "cell_type": "code",
      "source": [
        "v=(4/3)*3.14*r**3\n",
        "print(v)"
      ],
      "metadata": {
        "colab": {
          "base_uri": "https://localhost:8080/"
        },
        "id": "kvhjLIbb64YX",
        "outputId": "e472097a-6f62-4f08-caf4-410408795e92"
      },
      "execution_count": null,
      "outputs": [
        {
          "output_type": "stream",
          "name": "stdout",
          "text": [
            "4.1866666666666665\n"
          ]
        }
      ]
    },
    {
      "cell_type": "markdown",
      "source": [
        "C) Teste para R = 1,9 M"
      ],
      "metadata": {
        "id": "TH3opPfw7BaU"
      }
    },
    {
      "cell_type": "code",
      "source": [
        "r=1.9"
      ],
      "metadata": {
        "id": "Vtix2svj7H99"
      },
      "execution_count": null,
      "outputs": []
    },
    {
      "cell_type": "code",
      "source": [
        "v=(4/3)*3.14*r**3\n",
        "print(v)"
      ],
      "metadata": {
        "colab": {
          "base_uri": "https://localhost:8080/"
        },
        "id": "les6MY3G7Liw",
        "outputId": "ad501128-77f9-457d-a383-0035b41ff429"
      },
      "execution_count": null,
      "outputs": [
        {
          "output_type": "stream",
          "name": "stdout",
          "text": [
            "28.716346666666663\n"
          ]
        }
      ]
    },
    {
      "cell_type": "markdown",
      "source": [
        "2) Temperatura em Fahrenheit dada a temperatura em Celsius contida em uma variavel Tc.\n",
        "\n"
      ],
      "metadata": {
        "id": "5T2nXLw1tb5B"
      }
    },
    {
      "cell_type": "markdown",
      "source": [
        "a) Tc = -10ºC"
      ],
      "metadata": {
        "id": "kSjem3oItgY6"
      }
    },
    {
      "cell_type": "code",
      "source": [
        "tc=-10"
      ],
      "metadata": {
        "id": "687xlgtAyacW"
      },
      "execution_count": null,
      "outputs": []
    },
    {
      "cell_type": "code",
      "source": [
        "tf=((tc/5)*9)+32\n",
        "print(tf)"
      ],
      "metadata": {
        "colab": {
          "base_uri": "https://localhost:8080/"
        },
        "id": "SS6lFlK3ys7z",
        "outputId": "0a4544ad-31d8-4653-bf09-8a84f2590620"
      },
      "execution_count": null,
      "outputs": [
        {
          "output_type": "stream",
          "name": "stdout",
          "text": [
            "14.0\n"
          ]
        }
      ]
    },
    {
      "cell_type": "markdown",
      "source": [
        "b) Tc = 30ºC"
      ],
      "metadata": {
        "id": "UMtv8yaLtsPq"
      }
    },
    {
      "cell_type": "code",
      "source": [
        "tc=30"
      ],
      "metadata": {
        "id": "DLXMSBt5-UzR"
      },
      "execution_count": null,
      "outputs": []
    },
    {
      "cell_type": "code",
      "source": [
        "tf=((tc/5)*9)+32\n",
        "print(tf)"
      ],
      "metadata": {
        "colab": {
          "base_uri": "https://localhost:8080/"
        },
        "id": "M0Hnekzf-bvw",
        "outputId": "f4bb8eb9-f6c0-4e16-ddbd-6dfaba2587d3"
      },
      "execution_count": null,
      "outputs": [
        {
          "output_type": "stream",
          "name": "stdout",
          "text": [
            "86.0\n"
          ]
        }
      ]
    },
    {
      "cell_type": "markdown",
      "source": [
        "c) Tc = 5ºC"
      ],
      "metadata": {
        "id": "zTNbJvhUtxjr"
      }
    },
    {
      "cell_type": "code",
      "source": [
        "tc=5"
      ],
      "metadata": {
        "id": "CVa4--e--sh_"
      },
      "execution_count": null,
      "outputs": []
    },
    {
      "cell_type": "code",
      "source": [
        "tf=((tc/5)*9)+32\n",
        "print(tf)"
      ],
      "metadata": {
        "colab": {
          "base_uri": "https://localhost:8080/"
        },
        "id": "TdnmN4HE-umr",
        "outputId": "128c76b6-1076-4ab2-c809-53cd8ced3e48"
      },
      "execution_count": null,
      "outputs": [
        {
          "output_type": "stream",
          "name": "stdout",
          "text": [
            "41.0\n"
          ]
        }
      ]
    },
    {
      "cell_type": "markdown",
      "source": [
        "3) O tamanho do lado C de um triângulo com lados a, b e ângulo 0 entre os\n",
        "lados a e b conhecidos. a, b e 0 devem estar gravadas em variáveis. A expressão para isso é conhecida como lei dos cossenos:"
      ],
      "metadata": {
        "id": "p4gF7ohVuKgV"
      }
    },
    {
      "cell_type": "markdown",
      "source": [
        "A) A = 1, B = 2  e o = 30º"
      ],
      "metadata": {
        "id": "Ika5gnBaGobG"
      }
    },
    {
      "cell_type": "code",
      "source": [
        "a=1\n",
        "b=2\n",
        "o=30"
      ],
      "metadata": {
        "id": "g6fzyCsWB4Ae"
      },
      "execution_count": null,
      "outputs": []
    },
    {
      "cell_type": "code",
      "source": [
        "import math\n",
        "c=(a**2+b**2-2*a*b*math.cos(30))**0.5\n",
        "print(c)"
      ],
      "metadata": {
        "colab": {
          "base_uri": "https://localhost:8080/"
        },
        "id": "db8OIXzzB4Ol",
        "outputId": "590cad4d-8a3a-403b-f099-49edea8d8232"
      },
      "execution_count": null,
      "outputs": [
        {
          "output_type": "stream",
          "name": "stdout",
          "text": [
            "2.0935601735917846\n"
          ]
        }
      ]
    },
    {
      "cell_type": "markdown",
      "source": [
        "B) A = 3, B = 1 e o = 45º"
      ],
      "metadata": {
        "id": "COl6b_o-HdBI"
      }
    },
    {
      "cell_type": "code",
      "source": [
        "a=3\n",
        "b=1\n",
        "o=45"
      ],
      "metadata": {
        "id": "ZDHyZBqcHkfU"
      },
      "execution_count": null,
      "outputs": []
    },
    {
      "cell_type": "code",
      "source": [
        "import math\n",
        "c=(a**2+b**2-2*a*b*math.cos(45))**0.5\n",
        "print(c)"
      ],
      "metadata": {
        "colab": {
          "base_uri": "https://localhost:8080/"
        },
        "id": "ZKBdFgNVHpfe",
        "outputId": "2c41701f-c17d-4c53-9d4d-d6ad7bcf2e57"
      },
      "execution_count": null,
      "outputs": [
        {
          "output_type": "stream",
          "name": "stdout",
          "text": [
            "10.267870395563993\n"
          ]
        }
      ]
    },
    {
      "cell_type": "markdown",
      "source": [
        "C) A = 10, B = 11 e o = 15º"
      ],
      "metadata": {
        "id": "miVf6KVlIHje"
      }
    },
    {
      "cell_type": "code",
      "source": [
        "a=10\n",
        "b=11\n",
        "o=15"
      ],
      "metadata": {
        "id": "lsj6FzYWIS0D"
      },
      "execution_count": null,
      "outputs": []
    },
    {
      "cell_type": "code",
      "source": [
        "c=(a**2+b**2-2*a*b*math.cos(15))**0.5\n",
        "print(c)"
      ],
      "metadata": {
        "colab": {
          "base_uri": "https://localhost:8080/"
        },
        "id": "EXzNYLlyIXW0",
        "outputId": "7560b4c1-29f7-46fc-f16b-b903a1bcd8b8"
      },
      "execution_count": null,
      "outputs": [
        {
          "output_type": "stream",
          "name": "stdout",
          "text": [
            "19.701049231676485\n"
          ]
        }
      ]
    },
    {
      "cell_type": "markdown",
      "source": [
        "3) A série de Fibonacci é uma sequência de números inteiros em que cada número da série é a soma dos dois números anteriores, o i-ésimo número pode ser aproximado:\n",
        "Na expressão acima o símbolo  representa a função piso."
      ],
      "metadata": {
        "id": "lKz59T2TwAUg"
      }
    },
    {
      "cell_type": "markdown",
      "source": [
        "A) i = 30"
      ],
      "metadata": {
        "id": "6nKnxSjyhcXN"
      }
    },
    {
      "cell_type": "code",
      "source": [
        "i=30"
      ],
      "metadata": {
        "id": "xaqVz7b1hmW7"
      },
      "execution_count": null,
      "outputs": []
    },
    {
      "cell_type": "code",
      "source": [
        "f=((((1+5**0.5)/2)**i)-(((1-5**0.5)/2)**i))/5**0.5\n",
        "f=int(f)\n",
        "print(f)"
      ],
      "metadata": {
        "colab": {
          "base_uri": "https://localhost:8080/"
        },
        "id": "4pGvEHLxh-Qy",
        "outputId": "7084ac81-0eaf-43f4-ff5d-ea671e152a1b"
      },
      "execution_count": null,
      "outputs": [
        {
          "output_type": "stream",
          "name": "stdout",
          "text": [
            "832040\n"
          ]
        }
      ]
    },
    {
      "cell_type": "markdown",
      "source": [
        "B) i = 31"
      ],
      "metadata": {
        "id": "9YfxpPoChff8"
      }
    },
    {
      "cell_type": "code",
      "source": [
        "i=31"
      ],
      "metadata": {
        "id": "Rd2hH5hNjGJh"
      },
      "execution_count": null,
      "outputs": []
    },
    {
      "cell_type": "code",
      "source": [
        "f=((((1+5**0.5)/2)**i)-(((1-5**0.5)/2)**i))/5**0.5\n",
        "f=int(f)\n",
        "print(f)\n"
      ],
      "metadata": {
        "colab": {
          "base_uri": "https://localhost:8080/"
        },
        "id": "p2e5-hudl_pG",
        "outputId": "3aa9bfe4-0462-4b8a-d7ae-38c83221da63"
      },
      "execution_count": null,
      "outputs": [
        {
          "output_type": "stream",
          "name": "stdout",
          "text": [
            "1346269\n"
          ]
        }
      ]
    },
    {
      "cell_type": "markdown",
      "source": [
        "C) i = 32"
      ],
      "metadata": {
        "id": "-ptZn2hNhiw-"
      }
    },
    {
      "cell_type": "code",
      "source": [
        "i=32"
      ],
      "metadata": {
        "id": "Ouup0-mWmQKP"
      },
      "execution_count": null,
      "outputs": []
    },
    {
      "cell_type": "code",
      "source": [
        "f=((((1+5**0.5)/2)**i)-(((1-5**0.5)/2)**i))/5**0.5\n",
        "f=int(f)\n",
        "print(f)"
      ],
      "metadata": {
        "colab": {
          "base_uri": "https://localhost:8080/"
        },
        "id": "_ghbtIsnmSbB",
        "outputId": "58aa940e-7659-42f2-9c71-adc6e69ca9eb"
      },
      "execution_count": null,
      "outputs": [
        {
          "output_type": "stream",
          "name": "stdout",
          "text": [
            "2178309\n"
          ]
        }
      ]
    }
  ]
}