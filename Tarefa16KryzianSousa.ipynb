{
  "nbformat": 4,
  "nbformat_minor": 0,
  "metadata": {
    "colab": {
      "provenance": []
    },
    "kernelspec": {
      "name": "python3",
      "display_name": "Python 3"
    },
    "language_info": {
      "name": "python"
    }
  },
  "cells": [
    {
      "cell_type": "markdown",
      "source": [
        "#Nome: Kryzian Sousa dos Santos RA: 11202021159"
      ],
      "metadata": {
        "id": "QHt7mo3aYb5t"
      }
    },
    {
      "cell_type": "markdown",
      "metadata": {
        "id": "OX0tWEzXQMm9"
      },
      "source": [
        "**1)** Faça uma função que receba um vetor **t**,um valor **A**, um valor **b** e um valor **c** e retorne um outro vetor **x**.\n",
        "\n",
        "$$x(t)  = A\\sqrt{1+bt^2} + c$$\n",
        "\n",
        "Além disso a função deve plotar o gráfico de **x** em função de **t**.\n",
        "\n",
        "Teste para \n",
        "- *a)* t indo de 0 a 10 com 1000 pontos, A = 2, b = 0.5, c = 0; \n",
        "- *b)* t indo de 0 a 15 com intervalo de 0.2 entre os valores do vetor, A = 10, b = 0.2, c = 1\n",
        "- *c*) t indo de -0,5 a 0,5 com 500 pontos, A = -3, b = -1.5, c = -10; "
      ]
    },
    {
      "cell_type": "code",
      "source": [
        "import numpy as np #Importar biblioteca numpy\n",
        "import matplotlib.pyplot as plt #Importar biblioteca matplotlib\n",
        "\n",
        "def func1(t, A, b, c, i):\n",
        "\n",
        "  X = A * np.sqrt(1 + b*t**2) + c #Calcular o vetor\n",
        "\n",
        "plt.plot(t, X) #Comandos para plotar gráfico x(t)\n",
        "plt.xlabel('t') #Nome da abscissa\n",
        "plt.ylabel('X(t)') #Nome da ordenada\n",
        "plt.title('t no intervalo '+str(i)) #Título do gráfico\n",
        "plt.xkcd() #Modo cartoon\n",
        "plt.show() #Comando para mostrar gráfico\n",
        "print(\"\\n\")\n",
        "\n",
        "t1 = np.linspace(0, 10.1, 1000) #Atribuindo os valores de t\n",
        "t2 = np.arange(0, 15.1, 0.2)\n",
        "t3 = np.linspace(-0.5, 0.51, 500)\n",
        "\n",
        "func1(t1, 2, 0.5, 0, \"0 - 10, 1000 termos\") #Colocando as funções\n",
        "func1(t2, 10, 0.2, 1, \"0 - 15, passo 0.2\")\n",
        "func1(t3, -3, -1.5, -10, \"-0.5 - 0.5, 500 termos\")"
      ],
      "metadata": {
        "colab": {
          "base_uri": "https://localhost:8080/",
          "height": 338
        },
        "id": "L7BrX0jxA7HW",
        "outputId": "c46e74c5-cd43-46b9-9a5f-3ef6be4d6bc6"
      },
      "execution_count": 66,
      "outputs": [
        {
          "output_type": "display_data",
          "data": {
            "text/plain": [
              "<Figure size 432x288 with 1 Axes>"
            ],
            "image/png": "[encoded data removed]"
          },
          "metadata": {}
        },
        {
          "output_type": "stream",
          "name": "stdout",
          "text": [
            "\n",
            "\n"
          ]
        }
      ]
    },
    {
      "cell_type": "markdown",
      "metadata": {
        "id": "XUxdCYVjQMm9"
      },
      "source": [
        "**2)** Faça uma função que ao ser executada sorteia um número entre 0 e 1. Se esse número for menor do que 0,5 apareça na tela a mensagem 'Cara'. Se esse número for maior do que 0,5  apareça a mensagem 'Coroa'. Uma sugestão do nome da função é 'cara_ou_coroa'.\n",
        "\n",
        "Teste a função chamando 10 vezes a função que você fez. \n",
        "\n",
        "Dica: o comando 'np.random.rand(n)' gera n números aleatórios entre 0 e 1."
      ]
    },
    {
      "cell_type": "code",
      "source": [
        "import numpy as np #Importar a biblioteca numpy\n",
        "\n",
        "def cara_ou_coroa(): \n",
        "  num = np.random.rand(1) #Comando para sortear número\n",
        "  print(\"Número: \", num) #Comando para print do número sorteado\n",
        "  if num < 0.5: #Definindo condições\n",
        "    print(\"cara\\n\") #Print da condição dada\n",
        "  else: #Caso contrário\n",
        "    print(\"Coroa\\n\") #Print do caso contrário\n",
        "\n",
        "for i in range(10): #Comando para fazer o testa 10 vezes\n",
        "  cara_ou_coroa()"
      ],
      "metadata": {
        "colab": {
          "base_uri": "https://localhost:8080/"
        },
        "id": "_wUQOrsbDk50",
        "outputId": "e9a241fa-a55a-4128-a4e2-d1af3ff3dfdb"
      },
      "execution_count": 67,
      "outputs": [
        {
          "output_type": "stream",
          "name": "stdout",
          "text": [
            "Número:  [0.56902692]\n",
            "Coroa\n",
            "\n",
            "Número:  [0.61170609]\n",
            "Coroa\n",
            "\n",
            "Número:  [0.52166967]\n",
            "Coroa\n",
            "\n",
            "Número:  [0.61691412]\n",
            "Coroa\n",
            "\n",
            "Número:  [0.15356544]\n",
            "cara\n",
            "\n",
            "Número:  [0.43438436]\n",
            "cara\n",
            "\n",
            "Número:  [0.39187174]\n",
            "cara\n",
            "\n",
            "Número:  [0.0566233]\n",
            "cara\n",
            "\n",
            "Número:  [0.90437593]\n",
            "Coroa\n",
            "\n",
            "Número:  [0.70972219]\n",
            "Coroa\n",
            "\n"
          ]
        }
      ]
    },
    {
      "cell_type": "markdown",
      "metadata": {
        "id": "V80p5UQDQMm-"
      },
      "source": [
        "**3)** Faça uma função que retorne a renda média nos jogos em que determinado time seja o time da casa. As entradas devem ser o **DataFrame do Pandas** com os jogos e o **nome do time mandante**. \n",
        "\n",
        "Para testar a função, use o arquivo [com todos os resultados do campeonato Brasileiro de futebol de 2018](../dados/tabelaBrasileirao2018.csv) (dados obtidos [desta](<https://pt.wikipedia.org/wiki/Resultados_do_Campeonato_Brasileiro_de_Futebol_de_2018_-_S%C3%A9rie_A_(primeiro_turno)>) e [desta](<https://pt.wikipedia.org/wiki/Resultados_do_Campeonato_Brasileiro_de_Futebol_de_2018_-_S%C3%A9rie_A_(segundo_turno)>) página da Wikipedia) e escolha 4 times diferentes para saber quala renda média por jogo.\n",
        "\n"
      ]
    },
    {
      "cell_type": "code",
      "source": [
        "import numpy as np #Comando para importar a biblioteca numpy\n",
        "import pandas as pd #Comando para importar a biblioteca pandas \n",
        "\n",
        "dados = pd.read_csv('https://raw.githubusercontent.com/BMClab/BasesComputacionais/master/aula6/dados/tabelaBrasileirao2018.csv') #Comando para ler o arquivo csv\n",
        "\n",
        "def renda_mandante(time): #Comandos para calcular renda média\n",
        "  media = dados.query(\"Mandante == @time)['Renda (R$)'].mean()\n",
        "  print(\"A renda média nos jogos do time\",time,\"foi\",round(media,2),\"reais.\\n\") #Print para comando do cálculo da renda média\n",
        "\n",
        "time1 = \"Internacional\" #Escolhe dos quatro times\n",
        "time2 = \"Sport\" #Escolhe dos quatro times\n",
        "time3 = \"Cruzeiro\" #Escolhe dos quatro times\n",
        "time4 = \"Botafogo\" #Escolhe dos quatro times\n",
        "\n",
        "renda_mandante(time1)\n",
        "renda_mandante(time2)\n",
        "renda_mandante(time3)\n",
        "renda_mandante(time4)"
      ],
      "metadata": {
        "colab": {
          "base_uri": "https://localhost:8080/",
          "height": 130
        },
        "id": "In0azDz_EdmB",
        "outputId": "59ae7fc6-266c-4651-a650-3b4817eef2db"
      },
      "execution_count": 70,
      "outputs": [
        {
          "output_type": "error",
          "ename": "SyntaxError",
          "evalue": "ignored",
          "traceback": [
            "\u001b[0;36m  File \u001b[0;32m\"<ipython-input-70-e072a373c4ff>\"\u001b[0;36m, line \u001b[0;32m7\u001b[0m\n\u001b[0;31m    media = dados.query(\"Mandante == @time)['Renda (R$)'].mean()\u001b[0m\n\u001b[0m                                                                ^\u001b[0m\n\u001b[0;31mSyntaxError\u001b[0m\u001b[0;31m:\u001b[0m EOL while scanning string literal\n"
          ]
        }
      ]
    },
    {
      "cell_type": "markdown",
      "metadata": {
        "id": "bCj_v60BQMm-"
      },
      "source": [
        "**4)** Dados valores **x1**, **y1**, **x2**, **y2**, sendo esses valores das coordenadas $(x_1, y_1)$ e $(x_2, y_2)$ de dois pontos. \n",
        "\n",
        "Fazer uma função que encontre a inclinação da reta **m** e o ponto **b** em que a reta cruza o eixo y da reta $y = mx+b$ que passa pelos dois pontos. Além disso deve ser feito o gráfico da reta encontrada com **N** pontos, além de mostrar os dois pontos dados como entrada, indicados com marcadores quadrados.\n",
        "\n",
        "Essa função deve retornar **m** e **b** e receber como parâmetros **x1**, **y1**, **x2**, **y2** e **N**.\n",
        "\n",
        "Dica: a inclinação de uma reta, dados dois pontos é:\n",
        "\n",
        "$$m = \\frac{y_2-y_1}{x_2-x_1} $$\n",
        "\n",
        "e o ponto que cruza o eixo y é:\n",
        "\n",
        "$$b = y_1 - mx_1$$\n",
        "\n",
        "Teste para: \n",
        "\n",
        "- a) x1 = -19, y1 = 2, x2 = 10, y2 = -10, N = 1000\n",
        "- b) x1 = -2, y1 = 8, x2 = 20, y2 = 43, N = 2000\n",
        "- c) x1 = 7, y1 = 13, x2 = 1, y2 = 2, N = 500"
      ]
    },
    {
      "cell_type": "code",
      "source": [
        "import numpy as np #Comando para importar biblioteca numpy\n",
        "import matplotlib.pyplot as plt #Comando para importar biblioteca matplotlib\n",
        "\n",
        "def inclinacao(x1, y1, x2, y2, N): \n",
        "  m = (y2 - y1)/(x2 - x1) #Função m\n",
        "  b = y1 - m*x1 #Função b\n",
        "\n",
        "  print(\"Ponto utilizados: P1=(\"+str(x1)+\",\"+str(y1)+\") e P2=(\"+str(x2)+\",\"+ #Comando para print da funcao\n",
        "      str(y2)+\")\")\n",
        "  print(\"Inclinação m da reta:\",round(m, 3)) #Comando para print da funcao\n",
        "  print(\"Intersecção com o eixo y:\",round(b,3)) #Comando para print da funcao\n",
        "\n",
        "x = np.linspace(-20,20,N) #Comando para calcular N em x e y\n",
        "y = np.zeros(N)\n",
        "for i in range(N): #Comando para repetir a execução do codigo\n",
        "  y[i] = n*x[i] + b\n",
        "\n",
        "plt.plot(x,y) \n",
        "plt.xlabel('x') #Nome da abscissa\n",
        "plt.ylabel('f(x)') #Nome da ordenada\n",
        "plt.axhline(y=0, color='blue') #Cor azul\n",
        "plt.axvline(x=0, color='pink') #Cor rosa\n",
        "plt.annotate((\"P1: (\"+str(x1)+\",\"+str(y1)+\")\"),(x1,y1), #Comando para fazer anotação\n",
        "           font.size=10\n",
        "plt.plot(x1, y1,'s', color='r')\n",
        "plt.annotate((\"P2: (\"+str(x2)+\",\"+str(y2+\")\"),(x2,y2), #Comando para fazer anotação2\n",
        "          font.size=10)\n",
        "plt.plot(x2, y2, 's', color=red)\n",
        "plt.title('Grafico de f(x) com' + str(N) + ' pontos') #Comando titulo\n",
        "plt.show() #Comando para mostrar\n",
        "print(\"\\n\")"
      ],
      "metadata": {
        "colab": {
          "base_uri": "https://localhost:8080/",
          "height": 130
        },
        "id": "UKLZ4eQ-HXy2",
        "outputId": "be2f5837-4549-4098-c040-7af1001587cd"
      },
      "execution_count": 81,
      "outputs": [
        {
          "output_type": "error",
          "ename": "SyntaxError",
          "evalue": "ignored",
          "traceback": [
            "\u001b[0;36m  File \u001b[0;32m\"<ipython-input-81-13f8367b66cd>\"\u001b[0;36m, line \u001b[0;32m25\u001b[0m\n\u001b[0;31m    plt.plot(x1, y1,'s', color='r')\u001b[0m\n\u001b[0m    ^\u001b[0m\n\u001b[0;31mSyntaxError\u001b[0m\u001b[0;31m:\u001b[0m invalid syntax\n"
          ]
        }
      ]
    }
  ]
}