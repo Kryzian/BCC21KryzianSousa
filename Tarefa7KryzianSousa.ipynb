{
  "nbformat": 4,
  "nbformat_minor": 0,
  "metadata": {
    "colab": {
      "provenance": []
    },
    "kernelspec": {
      "name": "python3",
      "display_name": "Python 3"
    },
    "language_info": {
      "name": "python"
    }
  },
  "cells": [
    {
      "cell_type": "markdown",
      "source": [
        "#Nome: Kryzian Sousa dos Santos RA:11202021159"
      ],
      "metadata": {
        "id": "iKge1HbQsf7M"
      }
    },
    {
      "cell_type": "markdown",
      "source": [
        "- **1)** Faça um programa que mostre se o número inteiro guardado na variável $x$ é par ou ímpar. Caso seja par, deve aparecer na tela: \"O número x é par\". Caso seja ímpar deve aparecer \"O número x é ímpar\". \n",
        "\n",
        "Teste para a) $x$ = 1, b) $x$ = 24, c) $x$ = 10, d) $x$ = 5.\n",
        "\n",
        "    \n"
      ],
      "metadata": {
        "id": "_xoYbASlrF3B"
      }
    },
    {
      "cell_type": "markdown",
      "source": [
        "a) X = 1"
      ],
      "metadata": {
        "id": "Eyjnxmbst1ia"
      }
    },
    {
      "cell_type": "code",
      "source": [
        "X=1 #Número inteiro guardado na variável x\n",
        "if (X%2) == 0: #Dividindo por 2 para sabermos se tem ou não resto na divisão\n",
        "        print(\"O número\", X ,\"é par\") #Caso não tenha resto, será par\n",
        "else: #Caso contrário, se a operação tiver resto, será ímpar\n",
        "        print(\"O número\", X ,\"é ímpar\") #Comando para mostrar se é ímpar\n",
        "      \n"
      ],
      "metadata": {
        "colab": {
          "base_uri": "https://localhost:8080/"
        },
        "id": "fR92_Tsgt58z",
        "outputId": "f28f1657-c7fa-4986-c811-e6bfd9a3c0b6"
      },
      "execution_count": 14,
      "outputs": [
        {
          "output_type": "stream",
          "name": "stdout",
          "text": [
            "O número 1 é ímpar\n"
          ]
        }
      ]
    },
    {
      "cell_type": "markdown",
      "source": [
        "b) x = 24"
      ],
      "metadata": {
        "id": "uKvi2Gg1wHgK"
      }
    },
    {
      "cell_type": "code",
      "source": [
        "X=24 #Número inteiro guardado na variável x\n",
        "if (X%2) == 0: #Dividindo por 2 para sabermos se tem ou não resto na divisão\n",
        "        print(\"O número\", X , \"é par\") #Caso não tenha resto, será par\n",
        "else: #Caso contrário, se a operação tiver resto, será ímpar\n",
        "        print(\"O número\", X ,\"é ímpar\") #Comando para mostrar se é ímpar"
      ],
      "metadata": {
        "colab": {
          "base_uri": "https://localhost:8080/"
        },
        "id": "qkBN3wQMwKII",
        "outputId": "264e0ec5-ab7f-4b17-90a7-f5ace7f947e5"
      },
      "execution_count": 15,
      "outputs": [
        {
          "output_type": "stream",
          "name": "stdout",
          "text": [
            "O número 24 é par\n"
          ]
        }
      ]
    },
    {
      "cell_type": "markdown",
      "source": [
        "c) x = 10"
      ],
      "metadata": {
        "id": "s36t-eoBwQCE"
      }
    },
    {
      "cell_type": "code",
      "source": [
        "X=10 #Número inteiro guardado na variável x\n",
        "if (X%2) == 0: #Dividindo por 2 para sabermos se tem ou não resto na divisão\n",
        "        print(\"O número\", X , \"é par\") #Caso não tenha resto, será par\n",
        "else: #Caso contrário, se a operação tiver resto, será ímpar\n",
        "        print(\"O número\", X ,\"é ímpar\") #Comando para mostrar se é ímpar"
      ],
      "metadata": {
        "colab": {
          "base_uri": "https://localhost:8080/"
        },
        "id": "KKE9P7SmwSL6",
        "outputId": "e6e4edad-622d-47fc-f390-98266d817af9"
      },
      "execution_count": 16,
      "outputs": [
        {
          "output_type": "stream",
          "name": "stdout",
          "text": [
            "O número 10 é par\n"
          ]
        }
      ]
    },
    {
      "cell_type": "markdown",
      "source": [
        "d) x = 5"
      ],
      "metadata": {
        "id": "BiQUsK7MwU_c"
      }
    },
    {
      "cell_type": "code",
      "source": [
        "X=5 #Número inteiro guardado na variável x\n",
        "if (X%2) == 0: #Dividindo por 2 para sabermos se tem ou não resto na divisão\n",
        "        print(\"O número\", X , \"é par\") #Caso não tenha resto, será par\n",
        "else: #Caso contrário, se a operação tiver resto, será ímpar\n",
        "        print(\"O número\", X ,\"é ímpar\") #Comando para mostrar se é ímpar"
      ],
      "metadata": {
        "colab": {
          "base_uri": "https://localhost:8080/"
        },
        "id": "XvctD-j4wW8_",
        "outputId": "92e58dfa-6c23-430c-d00b-c8b429f8ba8b"
      },
      "execution_count": 17,
      "outputs": [
        {
          "output_type": "stream",
          "name": "stdout",
          "text": [
            "O número 5 é ímpar\n"
          ]
        }
      ]
    }
  ]
}