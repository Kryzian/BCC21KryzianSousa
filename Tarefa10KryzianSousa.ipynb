{
  "nbformat": 4,
  "nbformat_minor": 0,
  "metadata": {
    "colab": {
      "provenance": [],
      "collapsed_sections": [],
      "authorship_tag": "ABX9TyPNWNt5TLovX+40o5SHxSaI",
      "include_colab_link": true
    },
    "kernelspec": {
      "name": "python3",
      "display_name": "Python 3"
    },
    "language_info": {
      "name": "python"
    }
  },
  "cells": [
    {
      "cell_type": "markdown",
      "metadata": {
        "id": "view-in-github",
        "colab_type": "text"
      },
      "source": [
        "<a href=\"https://colab.research.google.com/github/Kryzian/BCC21KryzianSousa/blob/main/Tarefa10KryzianSousa.ipynb\" target=\"_parent\"><img src=\"https://colab.research.google.com/assets/colab-badge.svg\" alt=\"Open In Colab\"/></a>"
      ]
    },
    {
      "cell_type": "markdown",
      "source": [
        "##Nome: Kryzian Sousa dos Santos RA: 11202021159"
      ],
      "metadata": {
        "id": "ajDK2hTz0RYq"
      }
    },
    {
      "cell_type": "markdown",
      "metadata": {
        "id": "yO_8X2Rgznds"
      },
      "source": [
        "**1)** Para este item você deverá usar o arquivo [com todos os resultados do campeonato Brasileiro de futebol de 2018 (tabelaBrasileirao2018.csv encontrado na pasta aula5/dados)](https://raw.githubusercontent.com/BMClab/BasesComputacionais/master/dados/tabelaBrasileirao2018.csv) (dados obtidos [desta](<https://pt.wikipedia.org/wiki/Resultados_do_Campeonato_Brasileiro_de_Futebol_de_2018_-_S%C3%A9rie_A_(primeiro_turno)>) e [desta](<https://pt.wikipedia.org/wiki/Resultados_do_Campeonato_Brasileiro_de_Futebol_de_2018_-_S%C3%A9rie_A_(segundo_turno)>) página da Wikipedia).\n",
        "\n",
        "- Calcule (e mostre o resultado) a porcentagem de jogos que o time da casa (mandante) ganhou o jogo.\n",
        "\n",
        "- Calcule (e mostre o resultado) a porcentagem de jogos que o time da casa (mandante) não perdeu o jogo."
      ]
    },
    {
      "cell_type": "code",
      "source": [
        "import pandas as pd #Comando para importar a biblioteca pandas\n",
        "import numpy as np #Comando para importar a biblioteca numpy\n",
        "df = pd.read_csv('https://raw.githubusercontent.com/BMClab/BasesComputacionais/master/dados/tabelaBrasileirao2018.csv') #Comando para leitura do arquivo csv\n",
        "df"
      ],
      "metadata": {
        "colab": {
          "base_uri": "https://localhost:8080/",
          "height": 728
        },
        "id": "cs6S5Jl4asnw",
        "outputId": "0211cab7-5c24-4491-876c-4bdc1961bcc9"
      },
      "execution_count": 35,
      "outputs": [
        {
          "output_type": "execute_result",
          "data": {
            "text/plain": [
              "           Data  Turno         Mandante  Placar do Mandante  \\\n",
              "0    14/04/2018      1         Cruzeiro                   0   \n",
              "1    14/04/2018      1          Vitória                   2   \n",
              "2    14/04/2018      1           Santos                   2   \n",
              "3    15/04/2018      1  América Mineiro                   3   \n",
              "4    15/04/2018      1    Internacional                   2   \n",
              "..          ...    ...              ...                 ...   \n",
              "375   2/12/2018      2       Fluminense                   1   \n",
              "376   2/12/2018      2            Ceará                   0   \n",
              "377   2/12/2018      2        Palmeiras                   3   \n",
              "378   2/12/2018      2           Grêmio                   1   \n",
              "379   2/12/2018      2            Sport                   2   \n",
              "\n",
              "     Placar do Visitante        Visitante  \\\n",
              "0                      1           Grêmio   \n",
              "1                      2         Flamengo   \n",
              "2                      0            Ceará   \n",
              "3                      0            Sport   \n",
              "4                      0            Bahia   \n",
              "..                   ...              ...   \n",
              "375                    0  América Mineiro   \n",
              "376                    0    Vasco da Gama   \n",
              "377                    2          Vitória   \n",
              "378                    0      Corinthians   \n",
              "379                    1           Santos   \n",
              "\n",
              "                                   Estádio Horário  \\\n",
              "0         Estádio Mineirão, Belo Horizonte   16:00   \n",
              "1               Estádio Barradão, Salvador   19:00   \n",
              "2           Estádio do Pacaembu, São Paulo   21:00   \n",
              "3    Estádio Independência, Belo Horizonte   11:00   \n",
              "4          Estádio Beira-Rio, Porto Alegre   16:00   \n",
              "..                                     ...     ...   \n",
              "375    Estádio do Maracanã, Rio de Janeiro   17:00   \n",
              "376            Estádio Castelão, Fortaleza   17:00   \n",
              "377              Allianz Parque, São Paulo   17:00   \n",
              "378          Arena do Grêmio, Porto Alegre   17:00   \n",
              "379         Estádio Ilha do Retiro, Recife   17:00   \n",
              "\n",
              "                                      Gols do Mandante  \\\n",
              "0                                                  NaN   \n",
              "1                          Yago 13' (pen) Denílson 76'   \n",
              "2                                  Pio 41' Rodrygo 49'   \n",
              "3                       Serginho 1', 40' Carlinhos 36'   \n",
              "4                                  Nico López 37', 60'   \n",
              "..                                                 ...   \n",
              "375                                        Richard 40'   \n",
              "376                                                NaN   \n",
              "377  Edu Dracena 42' Gustavo Scarpa 56' Bruno Henri...   \n",
              "378                                           Jael 11'   \n",
              "379                          Rogério 83' Hernane 90+1'   \n",
              "\n",
              "              Gols do Visitante  Público                              Árbitro  \\\n",
              "0                     54' André    15446            PR Rodolpho Toski Marques   \n",
              "1    1' Lucas Paquetá 72' Réver    12669                      MT Wagner Reway   \n",
              "2                           NaN    12268         SC Rodrigo D'Alonso Ferreira   \n",
              "3                           NaN     3230             DF Sávio Pereira Sampaio   \n",
              "4                           NaN    18460   GO Eduardo Tomaz de Aquino Valadão   \n",
              "..                          ...      ...                                  ...   \n",
              "375                         NaN    34870                      PR Rafael Traci   \n",
              "376                         NaN    57223                     SP Raphael Claus   \n",
              "377     70' (pen) Yago 72' Luan    41256               SC Héber Roberto Lopes   \n",
              "378                         NaN    38974           MG Ricardo Marques Ribeiro   \n",
              "379               90+3' Rodrygo    15214                  RS Anderson Daronco   \n",
              "\n",
              "     Renda (R$)  \n",
              "0      418305.0  \n",
              "1      238994.0  \n",
              "2      526550.0  \n",
              "3       36293.0  \n",
              "4      796275.0  \n",
              "..          ...  \n",
              "375    139932.5  \n",
              "376   1128494.0  \n",
              "377   3514618.3  \n",
              "378   1450578.0  \n",
              "379    225305.0  \n",
              "\n",
              "[380 rows x 13 columns]"
            ],
            "text/html": [
              "\n",
              "  <div id=\"df-ca12479c-9eaf-431c-85e1-9dce33939afa\">\n",
              "    <div class=\"colab-df-container\">\n",
              "      <div>\n",
              "<style scoped>\n",
              "    .dataframe tbody tr th:only-of-type {\n",
              "        vertical-align: middle;\n",
              "    }\n",
              "\n",
              "    .dataframe tbody tr th {\n",
              "        vertical-align: top;\n",
              "    }\n",
              "\n",
              "    .dataframe thead th {\n",
              "        text-align: right;\n",
              "    }\n",
              "</style>\n",
              "<table border=\"1\" class=\"dataframe\">\n",
              "  <thead>\n",
              "    <tr style=\"text-align: right;\">\n",
              "      <th></th>\n",
              "      <th>Data</th>\n",
              "      <th>Turno</th>\n",
              "      <th>Mandante</th>\n",
              "      <th>Placar do Mandante</th>\n",
              "      <th>Placar do Visitante</th>\n",
              "      <th>Visitante</th>\n",
              "      <th>Estádio</th>\n",
              "      <th>Horário</th>\n",
              "      <th>Gols do Mandante</th>\n",
              "      <th>Gols do Visitante</th>\n",
              "      <th>Público</th>\n",
              "      <th>Árbitro</th>\n",
              "      <th>Renda (R$)</th>\n",
              "    </tr>\n",
              "  </thead>\n",
              "  <tbody>\n",
              "    <tr>\n",
              "      <th>0</th>\n",
              "      <td>14/04/2018</td>\n",
              "      <td>1</td>\n",
              "      <td>Cruzeiro</td>\n",
              "      <td>0</td>\n",
              "      <td>1</td>\n",
              "      <td>Grêmio</td>\n",
              "      <td>Estádio Mineirão, Belo Horizonte</td>\n",
              "      <td>16:00</td>\n",
              "      <td>NaN</td>\n",
              "      <td>54' André</td>\n",
              "      <td>15446</td>\n",
              "      <td>PR Rodolpho Toski Marques</td>\n",
              "      <td>418305.0</td>\n",
              "    </tr>\n",
              "    <tr>\n",
              "      <th>1</th>\n",
              "      <td>14/04/2018</td>\n",
              "      <td>1</td>\n",
              "      <td>Vitória</td>\n",
              "      <td>2</td>\n",
              "      <td>2</td>\n",
              "      <td>Flamengo</td>\n",
              "      <td>Estádio Barradão, Salvador</td>\n",
              "      <td>19:00</td>\n",
              "      <td>Yago 13' (pen) Denílson 76'</td>\n",
              "      <td>1' Lucas Paquetá 72' Réver</td>\n",
              "      <td>12669</td>\n",
              "      <td>MT Wagner Reway</td>\n",
              "      <td>238994.0</td>\n",
              "    </tr>\n",
              "    <tr>\n",
              "      <th>2</th>\n",
              "      <td>14/04/2018</td>\n",
              "      <td>1</td>\n",
              "      <td>Santos</td>\n",
              "      <td>2</td>\n",
              "      <td>0</td>\n",
              "      <td>Ceará</td>\n",
              "      <td>Estádio do Pacaembu, São Paulo</td>\n",
              "      <td>21:00</td>\n",
              "      <td>Pio 41' Rodrygo 49'</td>\n",
              "      <td>NaN</td>\n",
              "      <td>12268</td>\n",
              "      <td>SC Rodrigo D'Alonso Ferreira</td>\n",
              "      <td>526550.0</td>\n",
              "    </tr>\n",
              "    <tr>\n",
              "      <th>3</th>\n",
              "      <td>15/04/2018</td>\n",
              "      <td>1</td>\n",
              "      <td>América Mineiro</td>\n",
              "      <td>3</td>\n",
              "      <td>0</td>\n",
              "      <td>Sport</td>\n",
              "      <td>Estádio Independência, Belo Horizonte</td>\n",
              "      <td>11:00</td>\n",
              "      <td>Serginho 1', 40' Carlinhos 36'</td>\n",
              "      <td>NaN</td>\n",
              "      <td>3230</td>\n",
              "      <td>DF Sávio Pereira Sampaio</td>\n",
              "      <td>36293.0</td>\n",
              "    </tr>\n",
              "    <tr>\n",
              "      <th>4</th>\n",
              "      <td>15/04/2018</td>\n",
              "      <td>1</td>\n",
              "      <td>Internacional</td>\n",
              "      <td>2</td>\n",
              "      <td>0</td>\n",
              "      <td>Bahia</td>\n",
              "      <td>Estádio Beira-Rio, Porto Alegre</td>\n",
              "      <td>16:00</td>\n",
              "      <td>Nico López 37', 60'</td>\n",
              "      <td>NaN</td>\n",
              "      <td>18460</td>\n",
              "      <td>GO Eduardo Tomaz de Aquino Valadão</td>\n",
              "      <td>796275.0</td>\n",
              "    </tr>\n",
              "    <tr>\n",
              "      <th>...</th>\n",
              "      <td>...</td>\n",
              "      <td>...</td>\n",
              "      <td>...</td>\n",
              "      <td>...</td>\n",
              "      <td>...</td>\n",
              "      <td>...</td>\n",
              "      <td>...</td>\n",
              "      <td>...</td>\n",
              "      <td>...</td>\n",
              "      <td>...</td>\n",
              "      <td>...</td>\n",
              "      <td>...</td>\n",
              "      <td>...</td>\n",
              "    </tr>\n",
              "    <tr>\n",
              "      <th>375</th>\n",
              "      <td>2/12/2018</td>\n",
              "      <td>2</td>\n",
              "      <td>Fluminense</td>\n",
              "      <td>1</td>\n",
              "      <td>0</td>\n",
              "      <td>América Mineiro</td>\n",
              "      <td>Estádio do Maracanã, Rio de Janeiro</td>\n",
              "      <td>17:00</td>\n",
              "      <td>Richard 40'</td>\n",
              "      <td>NaN</td>\n",
              "      <td>34870</td>\n",
              "      <td>PR Rafael Traci</td>\n",
              "      <td>139932.5</td>\n",
              "    </tr>\n",
              "    <tr>\n",
              "      <th>376</th>\n",
              "      <td>2/12/2018</td>\n",
              "      <td>2</td>\n",
              "      <td>Ceará</td>\n",
              "      <td>0</td>\n",
              "      <td>0</td>\n",
              "      <td>Vasco da Gama</td>\n",
              "      <td>Estádio Castelão, Fortaleza</td>\n",
              "      <td>17:00</td>\n",
              "      <td>NaN</td>\n",
              "      <td>NaN</td>\n",
              "      <td>57223</td>\n",
              "      <td>SP Raphael Claus</td>\n",
              "      <td>1128494.0</td>\n",
              "    </tr>\n",
              "    <tr>\n",
              "      <th>377</th>\n",
              "      <td>2/12/2018</td>\n",
              "      <td>2</td>\n",
              "      <td>Palmeiras</td>\n",
              "      <td>3</td>\n",
              "      <td>2</td>\n",
              "      <td>Vitória</td>\n",
              "      <td>Allianz Parque, São Paulo</td>\n",
              "      <td>17:00</td>\n",
              "      <td>Edu Dracena 42' Gustavo Scarpa 56' Bruno Henri...</td>\n",
              "      <td>70' (pen) Yago 72' Luan</td>\n",
              "      <td>41256</td>\n",
              "      <td>SC Héber Roberto Lopes</td>\n",
              "      <td>3514618.3</td>\n",
              "    </tr>\n",
              "    <tr>\n",
              "      <th>378</th>\n",
              "      <td>2/12/2018</td>\n",
              "      <td>2</td>\n",
              "      <td>Grêmio</td>\n",
              "      <td>1</td>\n",
              "      <td>0</td>\n",
              "      <td>Corinthians</td>\n",
              "      <td>Arena do Grêmio, Porto Alegre</td>\n",
              "      <td>17:00</td>\n",
              "      <td>Jael 11'</td>\n",
              "      <td>NaN</td>\n",
              "      <td>38974</td>\n",
              "      <td>MG Ricardo Marques Ribeiro</td>\n",
              "      <td>1450578.0</td>\n",
              "    </tr>\n",
              "    <tr>\n",
              "      <th>379</th>\n",
              "      <td>2/12/2018</td>\n",
              "      <td>2</td>\n",
              "      <td>Sport</td>\n",
              "      <td>2</td>\n",
              "      <td>1</td>\n",
              "      <td>Santos</td>\n",
              "      <td>Estádio Ilha do Retiro, Recife</td>\n",
              "      <td>17:00</td>\n",
              "      <td>Rogério 83' Hernane 90+1'</td>\n",
              "      <td>90+3' Rodrygo</td>\n",
              "      <td>15214</td>\n",
              "      <td>RS Anderson Daronco</td>\n",
              "      <td>225305.0</td>\n",
              "    </tr>\n",
              "  </tbody>\n",
              "</table>\n",
              "<p>380 rows × 13 columns</p>\n",
              "</div>\n",
              "      <button class=\"colab-df-convert\" onclick=\"convertToInteractive('df-ca12479c-9eaf-431c-85e1-9dce33939afa')\"\n",
              "              title=\"Convert this dataframe to an interactive table.\"\n",
              "              style=\"display:none;\">\n",
              "        \n",
              "  <svg xmlns=\"http://www.w3.org/2000/svg\" height=\"24px\"viewBox=\"0 0 24 24\"\n",
              "       width=\"24px\">\n",
              "    <path d=\"M0 0h24v24H0V0z\" fill=\"none\"/>\n",
              "    <path d=\"M18.56 5.44l.94 2.06.94-2.06 2.06-.94-2.06-.94-.94-2.06-.94 2.06-2.06.94zm-11 1L8.5 8.5l.94-2.06 2.06-.94-2.06-.94L8.5 2.5l-.94 2.06-2.06.94zm10 10l.94 2.06.94-2.06 2.06-.94-2.06-.94-.94-2.06-.94 2.06-2.06.94z\"/><path d=\"M17.41 7.96l-1.37-1.37c-.4-.4-.92-.59-1.43-.59-.52 0-1.04.2-1.43.59L10.3 9.45l-7.72 7.72c-.78.78-.78 2.05 0 2.83L4 21.41c.39.39.9.59 1.41.59.51 0 1.02-.2 1.41-.59l7.78-7.78 2.81-2.81c.8-.78.8-2.07 0-2.86zM5.41 20L4 18.59l7.72-7.72 1.47 1.35L5.41 20z\"/>\n",
              "  </svg>\n",
              "      </button>\n",
              "      \n",
              "  <style>\n",
              "    .colab-df-container {\n",
              "      display:flex;\n",
              "      flex-wrap:wrap;\n",
              "      gap: 12px;\n",
              "    }\n",
              "\n",
              "    .colab-df-convert {\n",
              "      background-color: #E8F0FE;\n",
              "      border: none;\n",
              "      border-radius: 50%;\n",
              "      cursor: pointer;\n",
              "      display: none;\n",
              "      fill: #1967D2;\n",
              "      height: 32px;\n",
              "      padding: 0 0 0 0;\n",
              "      width: 32px;\n",
              "    }\n",
              "\n",
              "    .colab-df-convert:hover {\n",
              "      background-color: #E2EBFA;\n",
              "      box-shadow: 0px 1px 2px rgba(60, 64, 67, 0.3), 0px 1px 3px 1px rgba(60, 64, 67, 0.15);\n",
              "      fill: #174EA6;\n",
              "    }\n",
              "\n",
              "    [theme=dark] .colab-df-convert {\n",
              "      background-color: #3B4455;\n",
              "      fill: #D2E3FC;\n",
              "    }\n",
              "\n",
              "    [theme=dark] .colab-df-convert:hover {\n",
              "      background-color: #434B5C;\n",
              "      box-shadow: 0px 1px 3px 1px rgba(0, 0, 0, 0.15);\n",
              "      filter: drop-shadow(0px 1px 2px rgba(0, 0, 0, 0.3));\n",
              "      fill: #FFFFFF;\n",
              "    }\n",
              "  </style>\n",
              "\n",
              "      <script>\n",
              "        const buttonEl =\n",
              "          document.querySelector('#df-ca12479c-9eaf-431c-85e1-9dce33939afa button.colab-df-convert');\n",
              "        buttonEl.style.display =\n",
              "          google.colab.kernel.accessAllowed ? 'block' : 'none';\n",
              "\n",
              "        async function convertToInteractive(key) {\n",
              "          const element = document.querySelector('#df-ca12479c-9eaf-431c-85e1-9dce33939afa');\n",
              "          const dataTable =\n",
              "            await google.colab.kernel.invokeFunction('convertToInteractive',\n",
              "                                                     [key], {});\n",
              "          if (!dataTable) return;\n",
              "\n",
              "          const docLinkHtml = 'Like what you see? Visit the ' +\n",
              "            '<a target=\"_blank\" href=https://colab.research.google.com/notebooks/data_table.ipynb>data table notebook</a>'\n",
              "            + ' to learn more about interactive tables.';\n",
              "          element.innerHTML = '';\n",
              "          dataTable['output_type'] = 'display_data';\n",
              "          await google.colab.output.renderOutput(dataTable, element);\n",
              "          const docLink = document.createElement('div');\n",
              "          docLink.innerHTML = docLinkHtml;\n",
              "          element.appendChild(docLink);\n",
              "        }\n",
              "      </script>\n",
              "    </div>\n",
              "  </div>\n",
              "  "
            ]
          },
          "metadata": {},
          "execution_count": 35
        }
      ]
    },
    {
      "cell_type": "code",
      "source": [
        "x=df[df[\"Placar do Mandante\"]>df[\"Placar do Visitante\"]].shape[0] #Comando para calcular a qtdd de vezes que o mandante venceu os jogos\n",
        "print(\"Esta é a quantidade de vezes que o mandante venceu os jogos\", x) #Comando para mostrar a quantidade de jogos em que o mandante venceu os jogos"
      ],
      "metadata": {
        "id": "4UYCdTjccwP9",
        "colab": {
          "base_uri": "https://localhost:8080/"
        },
        "outputId": "6c57ccdf-0fcd-4dbf-8a5e-793667c16298"
      },
      "execution_count": 36,
      "outputs": [
        {
          "output_type": "stream",
          "name": "stdout",
          "text": [
            "Esta é a quantidade de vezes que o mandante venceu os jogos 202\n"
          ]
        }
      ]
    },
    {
      "cell_type": "code",
      "source": [
        "Vitorias= (x/380)*100 #Comando para calcular a porcentagem em que o mandante venceu os jogos\n",
        "print(\"Esta é a porcentagem em que o mandante venceu os jogos\", Vitorias,) #Comando para mostrar a porcentagem em que o mandante venceu os jogos"
      ],
      "metadata": {
        "colab": {
          "base_uri": "https://localhost:8080/"
        },
        "id": "WdhiRNrfO_gz",
        "outputId": "116f3135-1b48-4799-e504-bc1684279ba2"
      },
      "execution_count": 37,
      "outputs": [
        {
          "output_type": "stream",
          "name": "stdout",
          "text": [
            "Esta é a porcentagem em que o mandante venceu os jogos 53.1578947368421\n"
          ]
        }
      ]
    },
    {
      "cell_type": "code",
      "source": [
        "y=df[df[\"Placar do Mandante\"]<df[\"Placar do Visitante\"]].shape[0] #Comando para calcular a qtdd de vezes que o mandante perdeu os jogos\n",
        "print(\"Esta é a quantidade de vezes que o mandante perdeu os jogos\", y) #Comando para mostrar a quantidade de jogos em que o mandante perdeu os jogos"
      ],
      "metadata": {
        "colab": {
          "base_uri": "https://localhost:8080/"
        },
        "id": "bvGzLJU-KBtx",
        "outputId": "94115c1e-a1ec-4fdc-9346-5aa996c6d1ea"
      },
      "execution_count": 38,
      "outputs": [
        {
          "output_type": "stream",
          "name": "stdout",
          "text": [
            "Esta é a quantidade de vezes que o mandante perdeu os jogos 68\n"
          ]
        }
      ]
    },
    {
      "cell_type": "code",
      "source": [
        "Derrotas= (y/380)*100 #Comando para calcular a porcentagem em que o mandante perdeu os jogos\n",
        "print(\"Esta é a porcentagem em que o mandante venceu os jogos\", Derrotas,) #Comando para mostrar a porcentagem em que o mandante perdeu os jogos"
      ],
      "metadata": {
        "colab": {
          "base_uri": "https://localhost:8080/"
        },
        "id": "6OP2ZwbjP8Ka",
        "outputId": "40c57c2d-64e6-4143-b3a9-d69d5258cd94"
      },
      "execution_count": 39,
      "outputs": [
        {
          "output_type": "stream",
          "name": "stdout",
          "text": [
            "Esta é a porcentagem em que o mandante venceu os jogos 17.894736842105264\n"
          ]
        }
      ]
    },
    {
      "cell_type": "markdown",
      "metadata": {
        "id": "e196ZVj2zndt"
      },
      "source": [
        "**2)**  Para este item você deverá usar o arquivo com a [taxa de inflação mensal (IGP-DI) no Brasil de fevereiro de 1944 a junho de 2019](https://raw.githubusercontent.com/BMClab/BasesComputacionais/master/dados/inflacaoMensal.csv) (dados disponibilizados por Ipeadata). \n",
        "\n",
        "- Faça um gráfico da taxa de inflação mensal em função do tempo.\n",
        "- Mostre em que mês e ano e qual foi a maior taxa de inflação mensal medida neste período (fevereiro de 1944 a junho de 2019).\n",
        "\n",
        "Dica: para fazer o gráfico, note que um mês corresponde a um doze avos de ano. Para facilitar a criação do gráfico você pode criar uma outra coluna que corresponda ao ano adicionado da fração correspondente ao mês."
      ]
    },
    {
      "cell_type": "code",
      "source": [
        "import numpy as np #Comando para importar a biblioteca numpy\n",
        "import pandas as pd #Comando para importar a biblioteca pandas\n",
        "import matplotlib.pyplot as plt #Comando para importar matplotlib\n",
        "\n",
        "inflacao = pd.read_csv('https://raw.githubusercontent.com/BMClab/BasesComputacionais/master/dados/inflacaoMensal.csv') #Comando para leitura do arquivo csv\n",
        "\n",
        "inflacao['Ano + Mês'] = inflacao['Ano'] + inflacao['Mês']/12 #Comando para criação da coluna conforme dica do exercício\n",
        "\n",
        "meses = [\"Janeiro\", \"Fevereiro\", \"Março\", \"Abril\", \"Maio\", \"Junho\", \"Julho\", \"Agosto\", \"Setembro\", \"Outubro\", \"Novembro\",\"Dezembro\"] #Comando para criação de vetores com os meses\n",
        "\n",
        "imax = max(inflacao['Inflação']) #Comando para identificar o valor e a posição de maior inflação\n",
        "b = np.where(inflacao['Inflação'] == imax)\n",
        "a = b[0]\n",
        "\n",
        "print(\"A maior taxa de inflacao ocorreu em \" + #Comando para retornar maior inflação encontrada no comando anterior\n",
        "      str(meses[inflacao['Mês'].at[a[0]]-1]) + \" de \" +\n",
        "      str(inflacao['Ano'].at[a[0]]) + \".\\n\")\n",
        "\n",
        "plt.figure(figsize=(12,5)) #Comando para fazer o gráfico com medidas específicas\n",
        "plt.plot(inflacao['Ano + Mês'], inflacao['Inflação'], color='gray') #Comando para fazer gráfico de acordo com o enunciado\n",
        "plt.xlabel('Ano') #Nome da abscissa\n",
        "plt.ylabel('Taxa de Inflacao (%)') #Nome da ordenada\n",
        "plt.title('Taxa de inflacao ao longo dos anos') #Título do gráfico\n",
        "plt.plot(inflacao['Ano + Mês'].at[a[0]], inflacao['Inflação'].at[a[0]], #Colocar ponto onde foi a maior inflação\n",
        "         '.', color='r')\n",
        "plt.annotate((\"Maior taxa de inflacao\"), #Edição do comentário no plt.plot\n",
        "             (inflacao['Ano + Mês'].at[a[0]], inflacao['Inflação'].at[a[0]]),\n",
        "             fontsize=10, fontweight='bold')\n",
        "plt.xkcd() #Comando para deixar o gráfico no modo cartoon\n",
        "plt.grid()\n",
        "plt.show()"
      ],
      "metadata": {
        "colab": {
          "base_uri": "https://localhost:8080/",
          "height": 392
        },
        "id": "-0j7F2asei1v",
        "outputId": "bd0ab861-4e1e-4529-9cba-8c539542c046"
      },
      "execution_count": 40,
      "outputs": [
        {
          "output_type": "stream",
          "name": "stdout",
          "text": [
            "A maior taxa de inflacao ocorreu em Março de 1990.\n",
            "\n"
          ]
        },
        {
          "output_type": "display_data",
          "data": {
            "text/plain": [
              "<Figure size 864x360 with 1 Axes>"
            ],
            "image/png": "[encoded data removed]"
          },
          "metadata": {}
        }
      ]
    },
    {
      "cell_type": "markdown",
      "metadata": {
        "id": "sTM5tNpqzndu"
      },
      "source": [
        "**3)** Para este item você pode usar [esse histórico de visualização do Netflix](https://raw.githubusercontent.com/BMClab/BasesComputacionais/master/dados/netflix.csv) ou, se você tiver acesso ao Netflix, usar o seu [histórico](https://www.netflix.com/viewingactivity) (após entrar com a sua senha, role até o final da página e clique em \"Baixar tudo\").\n",
        "\n",
        "   + Mostre quais são os 10 programas mais vistos.\n",
        "   + Em qual mês do ano foi assistido mais programas? \n",
        "    \n",
        "A sequência de instruções acima cria uma coluna com o tipo do programa (Filme/Série), uma coluna com o nome do programa e uma outra coluna com o nome do episódio (no caso de ser uma série). Isso facilitará realizar a tarefa.\n",
        "\n",
        "Na sequência acima, *data* é o nome da variável na qual foi guardado o DataFrame com a informação vinda do arquivo de histórico. Se você der outro nome, mude o nome da variável no código acima. \n",
        "\n",
        "Pode ser que o seu arquivo esteja em português. Nesse caso, o campo 'Title' terá o nome 'Título' e você deverá alterar o código acima substituindo 'Title' por 'Título'."
      ]
    },
    {
      "cell_type": "code",
      "source": [
        "import numpy as np #Comando para importar a biblioteca numpy\n",
        "import pandas as pd #Comando para importar a biblioteca pandas\n",
        "df = pd.read_csv('https://raw.githubusercontent.com/BMClab/BasesComputacionais/master/dados/netflix.csv') #Comando para leitura do arquivo csv\n",
        "df['Categoria']= 'Filme' #Comando para criação de colunas\n",
        "df['Categoria'][df['Title'].str.contains(\": Temporada|: Stranger|: Parte\")]= 'Série' #Comando para criação de colunas\n",
        "df['Programa'] = df['Title'] #Comando para criação de colunas\n",
        "df[['Programa','Episódio']] = df[df['Categoria']=='Série']['Title'].str.split(pat = ': Temporada|: Stranger Things|: Parte', expand = True, n = 1) #Comando para criação de colunas\n",
        "df.loc[df['Categoria']=='Filme','Programa'] = df.loc[df['Categoria']=='Filme','Title'] #Comando para criação de colunas\n",
        "df = df.drop(columns= 'Title') #Comando para criação de colunas\n",
        "print(\"Programas mais assistidos e quantidade vista: \\n\" + #Print para mostrar os programas mais vistos\n",
        "      str(df['Programa'].value_counts().head(10)))\n",
        "df.sort_values(['Date']) #Comando para mostrar em que mês e ano obteve a maior quantidade vista\n",
        "df['Mês e Ano'] = df['Date'].str.slice(3)\n",
        "mes_ano = df['Mês e Ano'].value_counts().head(1)\n",
        "print(\"\\nMês e ano com maior número de programas vistos e quantidade: \\n\" + #Print para mostrar qual mês e ano obteve a maior quantidade vista\n",
        "      str(mes_ano))"
      ],
      "metadata": {
        "colab": {
          "base_uri": "https://localhost:8080/"
        },
        "id": "sX1GBKxbfyWD",
        "outputId": "564a8f3a-412c-43e0-e7b9-9507479040b8"
      },
      "execution_count": 41,
      "outputs": [
        {
          "output_type": "stream",
          "name": "stdout",
          "text": [
            "Programas mais assistidos e quantidade vista: \n",
            "House of Cards                           73\n",
            "Jornada nas Estrelas: A nova geração     64\n",
            "Star Trek: Enterprise                    63\n",
            "Jornada nas Estrelas: Deep Space Nine    46\n",
            "Star Trek: Discovery                     42\n",
            "Jornada nas estrelas                     34\n",
            "The Crown                                32\n",
            "Cobra Kai                                30\n",
            "Aggretsuko                               28\n",
            "Downton Abbey                            25\n",
            "Name: Programa, dtype: int64\n",
            "\n",
            "Mês e ano com maior número de programas vistos e quantidade: \n",
            "11/2016    34\n",
            "Name: Mês e Ano, dtype: int64\n"
          ]
        }
      ]
    },
    {
      "cell_type": "markdown",
      "metadata": {
        "tags": [],
        "id": "KjHnxtbdzndv"
      },
      "source": [
        "**4)** Para este item você deverá usar o arquivo [com todos os resultados do campeonato Brasileiro de futebol de 2018 (tabelaBrasileirao2018.csv encontrado na pasta aula5/dados)](https://raw.githubusercontent.com/BMClab/BasesComputacionais/master/dados/tabelaBrasileirao2018.csv) (dados obtidos [desta](<https://pt.wikipedia.org/wiki/Resultados_do_Campeonato_Brasileiro_de_Futebol_de_2018_-_S%C3%A9rie_A_(primeiro_turno)>) e [desta](<https://pt.wikipedia.org/wiki/Resultados_do_Campeonato_Brasileiro_de_Futebol_de_2018_-_S%C3%A9rie_A_(segundo_turno)>) página da Wikipedia).\n",
        "\n",
        "- Calcule qual foi a média de Renda para cada Estádio.\n",
        " "
      ]
    },
    {
      "cell_type": "code",
      "source": [
        "import numpy as np #Comando para importar a biblioteca numpy\n",
        "import pandas as pd #Comando para importar a biblioteca pandas\n",
        "df = pd.read_csv('https://raw.githubusercontent.com/BMClab/BasesComputacionais/master/dados/tabelaBrasileirao2018.csv') #Comando para leitura do arquivo csv"
      ],
      "metadata": {
        "id": "SUrxSDEqf9Z2"
      },
      "execution_count": 42,
      "outputs": []
    },
    {
      "cell_type": "code",
      "source": [
        "renda_total=df.groupby('Estádio')['Renda (R$)'].sum() #Comando para juntar estádios e somar as rendas\n",
        "qtd_j_estadio=df.groupby('Estádio')['Estádio'].count() #Comando para unir estádios e contar a qtdd de jogos por estádio\n",
        "renda_media=renda_total/qtd_j_estadio #Comando para dividir a renda pela quantidade de estádios\n",
        "print(\"Renda média para cada estádio em R$: \\n\" + str(round(renda_media,2))) #Comando para mostrar resultados calculados"
      ],
      "metadata": {
        "colab": {
          "base_uri": "https://localhost:8080/"
        },
        "id": "Y82WyLKSJqcG",
        "outputId": "ee4a033b-3f81-401c-be17-f8ebbc919d9f"
      },
      "execution_count": 43,
      "outputs": [
        {
          "output_type": "stream",
          "name": "stdout",
          "text": [
            "Renda média para cada estádio em R$: \n",
            "Estádio\n",
            "Allianz Parque, São Paulo                 2184977.30\n",
            "Arena Condá, Chapecó                       256148.16\n",
            "Arena Corinthians, São Paulo              1335614.75\n",
            "Arena Fonte Nova, Salvador                 391600.29\n",
            "Arena Pernambuco, São Lourenço da Mata     593910.00\n",
            "Arena da Baixada, Curitiba                 266011.05\n",
            "Arena do Grêmio, Porto Alegre              760596.89\n",
            "Estádio Barradão, Salvador                  96398.37\n",
            "Estádio Beira-Rio, Porto Alegre            850073.66\n",
            "Estádio Castelão, Fortaleza                623102.71\n",
            "Estádio Engenhão, Rio de Janeiro           167022.74\n",
            "Estádio Ilha do Retiro, Recife             182628.61\n",
            "Estádio Indepedência, Belo Horizonte       113144.50\n",
            "Estádio Independência, Belo Horizonte      185470.32\n",
            "Estádio Mineirão, Belo Horizonte           325315.47\n",
            "Estádio Nacional, Brasília                2614730.00\n",
            "Estádio Presidente Vargas, Fortaleza       103040.80\n",
            "Estádio São Januário, Rio de Janeiro       242278.44\n",
            "Estádio Vila Belmiro, Santos               164668.08\n",
            "Estádio Vila Capanema, Curitiba            153496.39\n",
            "Estádio de Pituaçu, Salvador               297475.00\n",
            "Estádio do Café, Londrina                 1953570.00\n",
            "Estádio do Maracanã, Rio de Janeiro        849158.13\n",
            "Estádio do Morumbi, São Paulo             1188518.74\n",
            "Estádio do Pacaembu, São Paulo             709281.14\n",
            "dtype: float64\n"
          ]
        }
      ]
    }
  ]
}