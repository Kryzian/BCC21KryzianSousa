{
  "nbformat": 4,
  "nbformat_minor": 0,
  "metadata": {
    "colab": {
      "provenance": []
    },
    "kernelspec": {
      "name": "python3",
      "display_name": "Python 3"
    },
    "language_info": {
      "name": "python"
    }
  },
  "cells": [
    {
      "cell_type": "markdown",
      "source": [
        "#Nome: Kryzian Sousa dos Santos RA: 11202021159"
      ],
      "metadata": {
        "id": "BFqXtN6VXP2k"
      }
    },
    {
      "cell_type": "markdown",
      "metadata": {
        "id": "j_Ri5JKyQMm9"
      },
      "source": [
        "**1)** Faça uma função que receba um número **a**, um número **b** e um número **x**. Esta função deve retornar **True** se **x** estiver entre **a** e **b** e **False** caso contrário. Além disso a função deve mostrar uma mensagem dizendo se **x** está no intervalo entre **a** e **b** ou não.\n",
        "\n",
        "Teste para \n",
        "- a) a = -2.5, b = 6.3 e x = 9.1; \n",
        "- b) a = -10, b = 7 e x = 2.2\n",
        "- c) a = 67.2, b = 87.2 e x = 8.1\n",
        "\n",
        "Sugestão: \n",
        "\n",
        "a função pode ter a seguinte estrutura:\n",
        "```python\n",
        "def estaNoIntervalo(a, b, x):\n",
        "    ...\n",
        "    return resposta\n",
        "```"
      ]
    },
    {
      "cell_type": "code",
      "source": [
        "A = -2.5 #Definição das variáveis conforme enunciado do exercício\n",
        "B = 6.3\n",
        "X = 9.1"
      ],
      "metadata": {
        "id": "zJtkveSZqjtO"
      },
      "execution_count": 16,
      "outputs": []
    },
    {
      "cell_type": "code",
      "source": [
        "import numpy as np #Comando para importar a biblioteca numpy\n",
        "def estaNoIntervalo(A, B, X):\n",
        "  if A <= X and X <= B: #Comando para colocar condições\n",
        "    resultado = True\n",
        "  elif B <= X and X <=A:\n",
        "    resultado = True\n",
        "  elif X <= A and X <=B:\n",
        "    resultado = False\n",
        "  elif X >= A and X >=B:\n",
        "    resultado = False\n",
        "\n",
        "  if resultado:\n",
        "    print (f'{X} está dentro do intervalo [{A},{B}]') #Comando para mostrar o resultado\n",
        "  else:\n",
        "    print (f'{X} não está dentro do intervalo [{A},{B}') #Comando para mostrar o resultado\n",
        "  return resultado\n"
      ],
      "metadata": {
        "id": "7zBCRVB5oynh"
      },
      "execution_count": 17,
      "outputs": []
    },
    {
      "cell_type": "code",
      "source": [
        "AlternativaA= estaNoIntervalo (A, B, X) #Teste de função de acordo com variável dada\n",
        "print (AlternativaA)"
      ],
      "metadata": {
        "colab": {
          "base_uri": "https://localhost:8080/"
        },
        "id": "eD_AWZeqq0b4",
        "outputId": "2fee68fa-f299-4710-a590-d8335ef6c713"
      },
      "execution_count": 18,
      "outputs": [
        {
          "output_type": "stream",
          "name": "stdout",
          "text": [
            "9.1 não está dentro do intervalo [-2.5,6.3\n",
            "False\n"
          ]
        }
      ]
    },
    {
      "cell_type": "code",
      "source": [
        "A = -10 #Definição das variáveis conforme enunciado do exercício\n",
        "B = 7\n",
        "X = 2.2"
      ],
      "metadata": {
        "id": "oVFpDBCYrqme"
      },
      "execution_count": 19,
      "outputs": []
    },
    {
      "cell_type": "code",
      "source": [
        "import numpy as np #Comando para importar a biblioteca numpy\n",
        "def estaNoIntervalo(A, B, X):\n",
        "  if A <= X and X <= B:  #Comando para colocar condições\n",
        "    resultado = True\n",
        "  elif B <= X and X <=A:\n",
        "    resultado = True\n",
        "  elif X <= A and X <=B:\n",
        "    resultado = False\n",
        "  elif X >= A and X >=B:\n",
        "    resultado = False\n",
        "\n",
        "  if resultado:\n",
        "    print (f'{X} está dentro do intervalo [{A},{B}]') #Comando para mostrar o resultado\n",
        "  else:\n",
        "    print (f'{X} não está dentro do intervalo [{A},{B}') #Comando para mostrar o resultado\n",
        "  return resultado"
      ],
      "metadata": {
        "id": "xJx7atEGrxWk"
      },
      "execution_count": 20,
      "outputs": []
    },
    {
      "cell_type": "code",
      "source": [
        "AlternativaB= estaNoIntervalo (A, B, X) #Teste de função de acordo com variável dada\n",
        "print (AlternativaB)"
      ],
      "metadata": {
        "colab": {
          "base_uri": "https://localhost:8080/"
        },
        "id": "9TLiRUlhr1je",
        "outputId": "649b5422-94f6-4285-b71a-8f89ba9f7190"
      },
      "execution_count": 21,
      "outputs": [
        {
          "output_type": "stream",
          "name": "stdout",
          "text": [
            "2.2 está dentro do intervalo [-10,7]\n",
            "True\n"
          ]
        }
      ]
    },
    {
      "cell_type": "code",
      "source": [
        "A = 67.2 #Definição das variáveis conforme enunciado do exercício\n",
        "B = 87.2\n",
        "X = 8.1"
      ],
      "metadata": {
        "id": "img83hPzr65T"
      },
      "execution_count": 22,
      "outputs": []
    },
    {
      "cell_type": "code",
      "source": [
        "import numpy as np #Comando para importar a biblioteca numpy\n",
        "def estaNoIntervalo(A, B, X):\n",
        "  if A <= X and X <= B:  #Comando para colocar condições\n",
        "    resultado = True\n",
        "  elif B <= X and X <=A:\n",
        "    resultado = True\n",
        "  elif X <= A and X <=B:\n",
        "    resultado = False\n",
        "  elif X >= A and X >=B:\n",
        "    resultado = False\n",
        "\n",
        "  if resultado:\n",
        "    print (f'{X} está dentro do intervalo [{A},{B}]') #Comando para mostrar o resultado\n",
        "  else:\n",
        "    print (f'{X} não está dentro do intervalo [{A},{B}') #Comando para mostrar o resultado\n",
        "  return resultado"
      ],
      "metadata": {
        "id": "oSk74GN6sARv"
      },
      "execution_count": 23,
      "outputs": []
    },
    {
      "cell_type": "code",
      "source": [
        "AlternativaC= estaNoIntervalo (A, B, X) #Teste de função de acordo com variável dada\n",
        "print (AlternativaC)"
      ],
      "metadata": {
        "colab": {
          "base_uri": "https://localhost:8080/"
        },
        "id": "1t1tdgx_sCO5",
        "outputId": "b1e708d6-495f-4e85-f582-3a0d0a91cd1c"
      },
      "execution_count": 24,
      "outputs": [
        {
          "output_type": "stream",
          "name": "stdout",
          "text": [
            "8.1 não está dentro do intervalo [67.2,87.2\n",
            "False\n"
          ]
        }
      ]
    }
  ]
}