{
  "nbformat": 4,
  "nbformat_minor": 0,
  "metadata": {
    "colab": {
      "provenance": [],
      "collapsed_sections": []
    },
    "kernelspec": {
      "name": "python3",
      "display_name": "Python 3"
    },
    "language_info": {
      "name": "python"
    }
  },
  "cells": [
    {
      "cell_type": "markdown",
      "source": [
        "#Nome: Kryzian Sousa dos Santos RA: 11202021159"
      ],
      "metadata": {
        "id": "ThFKG8g6OfZp"
      }
    },
    {
      "cell_type": "markdown",
      "source": [
        "Escrever um notebook do Colab para calcular o número de segundos $s$, dado o número de horas contida em uma variável $h$.\n",
        "\n",
        "Use o notebook para encontrar o número de segundos para:"
      ],
      "metadata": {
        "id": "HyHfv2ph3Xuz"
      }
    },
    {
      "cell_type": "markdown",
      "source": [
        "Parte 1 - Segundos em 1h\n",
        "\n",
        "(Obs.: 1h tem 60 minutos com 60 segundos)"
      ],
      "metadata": {
        "id": "4Z5_0Sy63tkA"
      }
    },
    {
      "cell_type": "code",
      "source": [
        "hs=60*60 #quantidade de segundos em 1h\n",
        "print(hs) "
      ],
      "metadata": {
        "colab": {
          "base_uri": "https://localhost:8080/"
        },
        "id": "0MYF6bIv4Snf",
        "outputId": "f44872cf-9129-4948-89cb-66b84717b889"
      },
      "execution_count": 10,
      "outputs": [
        {
          "output_type": "stream",
          "name": "stdout",
          "text": [
            "3600\n"
          ]
        }
      ]
    },
    {
      "cell_type": "markdown",
      "source": [
        "Parte 2 - Conversão\n",
        "\n",
        "A variável h recebe a quantidade de horas a serem convertidas e s realiza a conversão."
      ],
      "metadata": {
        "id": "4Gsuc-sc4iUe"
      }
    },
    {
      "cell_type": "markdown",
      "source": [
        "1) uma hora e meia:"
      ],
      "metadata": {
        "id": "0uQbQcVq43xR"
      }
    },
    {
      "cell_type": "code",
      "source": [
        "h=1.5 #hora a ser convertida\n",
        "s= h*hs #hora em segundos\n",
        "print(\"Em uma hora e meia, nós temos\", s, \"segundos\")"
      ],
      "metadata": {
        "colab": {
          "base_uri": "https://localhost:8080/"
        },
        "id": "i8S65DVj48RM",
        "outputId": "3847dc1f-7ae0-4ef3-e281-b011fe636357"
      },
      "execution_count": 20,
      "outputs": [
        {
          "output_type": "stream",
          "name": "stdout",
          "text": [
            "Em uma hora e meia, nós temos 5400.0 segundos\n"
          ]
        }
      ]
    },
    {
      "cell_type": "markdown",
      "source": [
        "2) 12 horas"
      ],
      "metadata": {
        "id": "RceNT8e4ZTYq"
      }
    },
    {
      "cell_type": "code",
      "source": [
        "h=12 #hora a ser convertida\n",
        "s= h*hs #hora em segundos\n",
        "print(\"Em 12 horas, nós temos\", s, \"segundos\")"
      ],
      "metadata": {
        "colab": {
          "base_uri": "https://localhost:8080/"
        },
        "id": "CE0b0w-4Y1SZ",
        "outputId": "c53dcee2-1071-4509-c7b2-4e539463fee5"
      },
      "execution_count": 23,
      "outputs": [
        {
          "output_type": "stream",
          "name": "stdout",
          "text": [
            "Em 12 horas, nós temos 43200 segundos\n"
          ]
        }
      ]
    },
    {
      "cell_type": "markdown",
      "source": [
        "3) 24 horas\n"
      ],
      "metadata": {
        "id": "lQDv-YyHaUmt"
      }
    },
    {
      "cell_type": "code",
      "source": [
        "h=24 #hora a ser convertida\n",
        "s= h*hs #hora em segundos\n",
        "print(\"Em 24 horas, nós temos\", s, \"segundos\")"
      ],
      "metadata": {
        "colab": {
          "base_uri": "https://localhost:8080/"
        },
        "id": "t4A3VvjjahKq",
        "outputId": "bc04eb6e-a869-4bab-dd3c-7e31c6d2bc45"
      },
      "execution_count": 24,
      "outputs": [
        {
          "output_type": "stream",
          "name": "stdout",
          "text": [
            "Em 24 horas, nós temos 86400 segundos\n"
          ]
        }
      ]
    }
  ]
}