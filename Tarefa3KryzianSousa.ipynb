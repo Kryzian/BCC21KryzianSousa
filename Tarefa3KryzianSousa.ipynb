{
  "nbformat": 4,
  "nbformat_minor": 0,
  "metadata": {
    "colab": {
      "provenance": [],
      "collapsed_sections": []
    },
    "kernelspec": {
      "name": "python3",
      "display_name": "Python 3"
    },
    "language_info": {
      "name": "python"
    }
  },
  "cells": [
    {
      "cell_type": "markdown",
      "source": [
        "#Nome: Kryzian Sousa dos Santos RA: 11202021159"
      ],
      "metadata": {
        "id": "ThFKG8g6OfZp"
      }
    },
    {
      "cell_type": "code",
      "source": [
        "h=3600\n",
        "print(\"Uma hora h = 3.600 segundos\")"
      ],
      "metadata": {
        "colab": {
          "base_uri": "https://localhost:8080/"
        },
        "id": "f7kDFLMDX89m",
        "outputId": "3f337369-a4f6-45ed-aa22-33410cf291fd"
      },
      "execution_count": null,
      "outputs": [
        {
          "output_type": "stream",
          "name": "stdout",
          "text": [
            "Uma hora h = 3.600 segundos\n"
          ]
        }
      ]
    },
    {
      "cell_type": "markdown",
      "source": [
        " 1) uma hora e meia"
      ],
      "metadata": {
        "id": "DUUQN22HZZwT"
      }
    },
    {
      "cell_type": "code",
      "source": [
        "from re import S\n",
        "s=1.5*h\n",
        "print(\"Em uma hora e meia, nós temos\", s , \"segundos\")"
      ],
      "metadata": {
        "colab": {
          "base_uri": "https://localhost:8080/"
        },
        "id": "YkmqvwqRZ3eS",
        "outputId": "41bdfb2a-91ee-434f-b8ac-b2265412194b"
      },
      "execution_count": null,
      "outputs": [
        {
          "output_type": "stream",
          "name": "stdout",
          "text": [
            "Em uma hora e meia, nós temos 5400.0 segundos\n"
          ]
        }
      ]
    },
    {
      "cell_type": "markdown",
      "source": [
        "2) 12 horas"
      ],
      "metadata": {
        "id": "RceNT8e4ZTYq"
      }
    },
    {
      "cell_type": "code",
      "source": [
        "s=12*h\n",
        "print(\"Em uma hora e meia, nós temos\", s , \"segundos\")"
      ],
      "metadata": {
        "colab": {
          "base_uri": "https://localhost:8080/"
        },
        "id": "CE0b0w-4Y1SZ",
        "outputId": "7021bb34-a181-49c9-b469-05affaa807f9"
      },
      "execution_count": null,
      "outputs": [
        {
          "output_type": "stream",
          "name": "stdout",
          "text": [
            "Em uma hora e meia, nós temos 43200 segundos\n"
          ]
        }
      ]
    },
    {
      "cell_type": "markdown",
      "source": [
        "3) 24 horas\n"
      ],
      "metadata": {
        "id": "lQDv-YyHaUmt"
      }
    },
    {
      "cell_type": "code",
      "source": [
        "s=24*h\n",
        "print(\"Em uma hora e meia, nós temos\", s , \"segundos\")"
      ],
      "metadata": {
        "colab": {
          "base_uri": "https://localhost:8080/"
        },
        "id": "t4A3VvjjahKq",
        "outputId": "b002b977-9514-4fd5-8eee-cd1e95c932f7"
      },
      "execution_count": null,
      "outputs": [
        {
          "output_type": "stream",
          "name": "stdout",
          "text": [
            "Em uma hora e meia, nós temos 86400 segundos\n"
          ]
        }
      ]
    }
  ]
}